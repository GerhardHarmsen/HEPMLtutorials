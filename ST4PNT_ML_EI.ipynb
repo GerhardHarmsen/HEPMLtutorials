{
 "cells": [
  {
   "cell_type": "markdown",
   "metadata": {
    "colab_type": "text",
    "id": "eT7-MMpfrlHR"
   },
   "source": [
    "# ST4 Enseignement Integration\n",
    "Accessing the HiggsML challenge dataset. See the accompanying document for details"
   ]
  },
  {
   "cell_type": "code",
   "execution_count": null,
   "metadata": {
    "colab": {},
    "colab_type": "code",
    "id": "QdmaHjz-xCm-"
   },
   "outputs": [],
   "source": [
    "COLAB=True # if running on Colab\n",
    "#COLAB=False # if running locally\n"
   ]
  },
  {
   "cell_type": "code",
   "execution_count": null,
   "metadata": {
    "colab": {},
    "colab_type": "code",
    "id": "IsChk6u-r7fk"
   },
   "outputs": [],
   "source": [
    "if COLAB:\n",
    "    #### Reading file from Google Drive\n",
    "    !pip install PyDrive\n",
    "    import os\n",
    "    from pydrive.auth import GoogleAuth\n",
    "    from pydrive.drive import GoogleDrive\n",
    "    from google.colab import auth\n",
    "    from oauth2client.client import GoogleCredentials\n",
    "    auth.authenticate_user()\n",
    "    gauth = GoogleAuth()\n",
    "    gauth.credentials = GoogleCredentials.get_application_default()\n",
    "    drive = GoogleDrive(gauth)"
   ]
  },
  {
   "cell_type": "code",
   "execution_count": null,
   "metadata": {
    "colab": {},
    "colab_type": "code",
    "id": "kl-4W4Ifs8EV"
   },
   "outputs": [],
   "source": [
    "# download dataset \n",
    "#directory download = drive.CreateFile({'id': '1TuvyEky9lCcc5ybC6nTl5zzkIm8p8AVO'})\n",
    "#download.GetContentFile(\"dataWW\")\n",
    "\n",
    "if COLAB:\n",
    "    download = drive.CreateFile({'id': '1P_IEO3wxj8tSlURMDpNOZX3L65r9Gtgi'})\n",
    "    download.GetContentFile(\"atlas-higgs-challenge-2014-v2-s0_e500000.csv.gz\")\n",
    "\n",
    "\n",
    "\n",
    "!ls -lrt"
   ]
  },
  {
   "cell_type": "code",
   "execution_count": null,
   "metadata": {
    "colab": {},
    "colab_type": "code",
    "id": "MDGbfWaTrlHS"
   },
   "outputs": [],
   "source": [
    "import numpy as np\n",
    "import pandas as pd\n",
    "import matplotlib.pyplot as plt\n",
    "#from IPython import display\n",
    "from IPython.display import display, HTML\n",
    "%matplotlib inline\n",
    "import time\n",
    "pd.set_option('display.max_columns', None) # to see all columns of df.head()\n",
    "np.random.seed(31415) # set the random seed\n"
   ]
  },
  {
   "cell_type": "markdown",
   "metadata": {
    "colab_type": "raw",
    "id": "xgfAFqAqrlHX"
   },
   "source": [
    "# load signal, background data"
   ]
  },
  {
   "cell_type": "code",
   "execution_count": null,
   "metadata": {},
   "outputs": [],
   "source": [
    "fulldata=pd.read_csv(\"atlas-higgs-challenge-2014-v2-s0_e500000.csv.gz\")\n",
    "\n",
    "display(fulldata.head(10))\n",
    "fulldata.columns"
   ]
  },
  {
   "cell_type": "code",
   "execution_count": null,
   "metadata": {},
   "outputs": [],
   "source": [
    "fulldata.describe()"
   ]
  },
  {
   "cell_type": "code",
   "execution_count": null,
   "metadata": {
    "colab": {},
    "colab_type": "code",
    "id": "lQsalTmorlHj"
   },
   "outputs": [],
   "source": [
    "print (\"Normalization is already correct for the full 2012 LHC running. Background and signal.\")\n",
    "# in principle should multiply all the scaleFactor (then weights will vary event by event)\n",
    "class_weights = (fulldata.query(\"Label==0\").Weight.sum(), fulldata.query(\"Label==1\").Weight.sum()) \n",
    "print(\"total class weights\",class_weights)\n",
    "\n",
    "class_nevents = (len(fulldata.query(\"Label==0\")), len(fulldata.query(\"Label==1\")))\n",
    "print (\"total class number of events\",class_nevents)\n",
    "\n"
   ]
  },
  {
   "cell_type": "markdown",
   "metadata": {
    "colab_type": "text",
    "id": "rtI5u5GErlHq"
   },
   "source": [
    "## Event selection"
   ]
  },
  {
   "cell_type": "code",
   "execution_count": null,
   "metadata": {
    "colab": {},
    "colab_type": "code",
    "id": "kaO2JM1hrlHr"
   },
   "outputs": [],
   "source": [
    "print (fulldata.shape)\n",
    "fulldata=fulldata.query(\"PRI_had_pt>22\") # needed for technical reason\n",
    "print (fulldata.shape)\n",
    "\n"
   ]
  },
  {
   "cell_type": "code",
   "execution_count": null,
   "metadata": {
    "colab": {},
    "colab_type": "code",
    "id": "C5tCZ6cTrlHw"
   },
   "outputs": [],
   "source": [
    "#DR replace dummy -999 by -7, for nicer plots\n",
    "fulldata.replace(-999,-7,inplace=True)\n",
    "fulldata.head()"
   ]
  },
  {
   "cell_type": "code",
   "execution_count": null,
   "metadata": {
    "colab": {},
    "colab_type": "code",
    "id": "iMQpKhDKrlH0"
   },
   "outputs": [],
   "source": [
    "#WARNING : there should be no selection nor shuffling later on !\n",
    "\n",
    "#hide label in separate vector\n",
    "target = fulldata[\"Label\"]\n",
    "del fulldata[\"Label\"]\n",
    "\n",
    "#hide weight in separate vector\n",
    "weights = fulldata[\"Weight\"]\n",
    "del fulldata[\"Weight\"]\n",
    "\n",
    "#remove unnecessary variable (save in separate DF just in case)\n",
    "eventid = fulldata[\"EventId\"]\n",
    "del fulldata[\"EventId\"]\n",
    "\n",
    "detaillabel = fulldata[\"detailLabel\"]\n",
    "del fulldata[\"detailLabel\"]\n"
   ]
  },
  {
   "cell_type": "markdown",
   "metadata": {
    "colab_type": "text",
    "id": "nviyIMgerlH3"
   },
   "source": [
    "# DO NOT MODIFY ANYTHING ABOVE (unless you know what you're doing)"
   ]
  },
  {
   "cell_type": "code",
   "execution_count": null,
   "metadata": {
    "colab": {},
    "colab_type": "code",
    "id": "6e0Hlpv6rlH4",
    "scrolled": true
   },
   "outputs": [],
   "source": [
    "#keep everything\n",
    "data=fulldata.copy()\n",
    "print (data.shape)\n",
    "data.head()\n",
    "\n",
    "\n"
   ]
  },
  {
   "cell_type": "code",
   "execution_count": null,
   "metadata": {
    "colab": {},
    "colab_type": "code",
    "id": "o2mf1bLVrlH7"
   },
   "outputs": [],
   "source": [
    "plt.figure()\n",
    "\n",
    "ax=data[target==0].hist(weights=weights[target==0],figsize=(15,12),color='b',alpha=0.5,density=True)\n",
    "\n",
    "ax=ax.flatten()[:data.shape[1]] # to avoid error if holes in the grid of plots (like if 7 or 8 features)\n",
    "data[target==1].hist(weights=weights[target==1],figsize=(15,12),color='r',alpha=0.5,density=True,ax=ax)\n",
    "\n",
    "plt.show()\n",
    "\n",
    "\n",
    "\n",
    "\n",
    "    \n",
    "print (data.shape)\n",
    "\n"
   ]
  },
  {
   "cell_type": "markdown",
   "metadata": {
    "colab_type": "text",
    "id": "9ZM-E5H4rlH-"
   },
   "source": []
  },
  {
   "cell_type": "markdown",
   "metadata": {
    "colab_type": "text",
    "id": "LzNVhZidzKwr"
   },
   "source": [
    "# Feature engineering, BDT training, NN training, ROC curve, AUC, significance, etc...."
   ]
  },
  {
   "cell_type": "markdown",
   "metadata": {},
   "source": [
    "Check the TD notebook, and first try and run them on this new dataset"
   ]
  }
 ],
 "metadata": {
  "colab": {
   "collapsed_sections": [],
   "name": "Copie de ST4PNL_ML_TD_BDT.ipynb",
   "provenance": [],
   "version": "0.3.2"
  },
  "kernelspec": {
   "display_name": "Python 3",
   "language": "python",
   "name": "python3"
  },
  "language_info": {
   "codemirror_mode": {
    "name": "ipython",
    "version": 3
   },
   "file_extension": ".py",
   "mimetype": "text/x-python",
   "name": "python",
   "nbconvert_exporter": "python",
   "pygments_lexer": "ipython3",
   "version": "3.7.4"
  }
 },
 "nbformat": 4,
 "nbformat_minor": 1
}
